{
 "cells": [
  {
   "cell_type": "markdown",
   "metadata": {},
   "source": [
    "# Data Collections 2 (Dictionaries, Sets) and Importing Modules"
   ]
  },
  {
   "cell_type": "markdown",
   "metadata": {},
   "source": [
    "## Tasks Today:\n",
    "\n",
    "1) Dictionary <br>\n",
    " &nbsp;&nbsp;&nbsp;&nbsp; a) Declaring (key, value) <br>\n",
    " &nbsp;&nbsp;&nbsp;&nbsp; b) Accessing Values <br>\n",
    " &nbsp;&nbsp;&nbsp;&nbsp; ------ Exercise #1 - Print the eye color of each person in a double nested dict <br>\n",
    " &nbsp;&nbsp;&nbsp;&nbsp; c) Adding New Pairs <br>\n",
    " &nbsp;&nbsp;&nbsp;&nbsp; d) Modifying Values <br>\n",
    " &nbsp;&nbsp;&nbsp;&nbsp; e) Removing Key, Value Pairs <br>\n",
    " &nbsp;&nbsp;&nbsp;&nbsp; f) Looping a Dictionary <br>\n",
    " &nbsp;&nbsp;&nbsp;&nbsp; g) Looping Only Keys <br>\n",
    " &nbsp;&nbsp;&nbsp;&nbsp; h) Looping Only Values <br>\n",
    " &nbsp;&nbsp;&nbsp;&nbsp; ------ Exercise #2 - Create a Function that Prints All Key Value Pairs within a print .format()  <br>\n",
    " &nbsp;&nbsp;&nbsp;&nbsp; i) sorted() <br>\n",
    " &nbsp;&nbsp;&nbsp;&nbsp; j) Lists with Dictionaries <br>\n",
    " &nbsp;&nbsp;&nbsp;&nbsp; k) Dictionaries with Lists <br>\n",
    " &nbsp;&nbsp;&nbsp;&nbsp; l) Dictionaries with Dictionaries <br>\n",
    " &nbsp;&nbsp;&nbsp;&nbsp; ------ Exercise #3 - Write a Function that asks someone's name and address, and then stores that into a dictionary, which prints all names and addresses after they're done putting information in...  <br>\n",
    "2) Dictionaries vs. Lists (over time)<br>\n",
    "3) Set <br>\n",
    " &nbsp;&nbsp;&nbsp;&nbsp; a) Declaring <br>\n",
    " &nbsp;&nbsp;&nbsp;&nbsp; b) .add() <br>\n",
    " &nbsp;&nbsp;&nbsp;&nbsp; c) .remove() <br>\n",
    " &nbsp;&nbsp;&nbsp;&nbsp; d) .union() <br>\n",
    " &nbsp;&nbsp;&nbsp;&nbsp; e) .intersection() <br>\n",
    " &nbsp;&nbsp;&nbsp;&nbsp; f) .difference() <br>\n",
    " &nbsp;&nbsp;&nbsp;&nbsp; g) Frozen Set <br>\n",
    "4) Modules <br>\n",
    " &nbsp;&nbsp;&nbsp;&nbsp; a) Importing Entire Modules <br>\n",
    " &nbsp;&nbsp;&nbsp;&nbsp; b) Importing Methods Only <br>\n",
    " &nbsp;&nbsp;&nbsp;&nbsp; c) Using the 'as' Keyword <br>\n",
    " &nbsp;&nbsp;&nbsp;&nbsp; d) Creating a Module <br>\n",
    "5) Exercises <br>\n",
    " &nbsp;&nbsp;&nbsp;&nbsp; a) Build a Shopping Cart <br>\n",
    " &nbsp;&nbsp;&nbsp;&nbsp; b) Create Your Own Module <br>"
   ]
  },
  {
   "cell_type": "markdown",
   "metadata": {},
   "source": [
    "## Dictionary <br>\n",
    "<p>A collection of data with 'key:value' pairs. Dictionaries are ordered as of Python 3.6</p>"
   ]
  },
  {
   "cell_type": "markdown",
   "metadata": {},
   "source": [
    "##### Declaring (key, value)"
   ]
  },
  {
   "cell_type": "code",
   "execution_count": null,
   "metadata": {},
   "outputs": [],
   "source": [
    "profile:\n",
    "    first name:Marcus\n",
    "    last name:Browley Jr\n",
    "    email: marowley21@gmail.com\n",
    "    age: 25\n",
    "        "
   ]
  },
  {
   "cell_type": "code",
   "execution_count": null,
   "metadata": {},
   "outputs": [],
   "source": [
    "[\"marcus\", \"browley\", \"marowley21@gmail.com\"]"
   ]
  },
  {
   "cell_type": "code",
   "execution_count": null,
   "metadata": {},
   "outputs": [],
   "source": [
    "d={}"
   ]
  },
  {
   "cell_type": "markdown",
   "metadata": {},
   "source": [
    "##### Accessing Values"
   ]
  },
  {
   "cell_type": "code",
   "execution_count": null,
   "metadata": {},
   "outputs": [],
   "source": [
    "d1 = {\n",
    "    \"key\": \"Value\",\n",
    "    \"name\": \"Marcus\",\n",
    "    123: \"integer\",\n",
    "    \"position\": \"DE\"\n",
    "}\n",
    "\n"
   ]
  },
  {
   "cell_type": "code",
   "execution_count": 3,
   "metadata": {},
   "outputs": [
    {
     "name": "stdout",
     "output_type": "stream",
     "text": [
      "Value\n",
      "Marcus\n",
      "DE\n",
      "d1[\"name\"]) is the new DE and he is an animal!\n"
     ]
    }
   ],
   "source": [
    "d1 = {\n",
    "    \"key\": \"Value\",\n",
    "    \"name\": \"Marcus\",\n",
    "    123: \"integer\",\n",
    "    \"position\": \"DE\"\n",
    "}\n",
    "\n",
    "print(d1[\"key\"])\n",
    "\n",
    "print(d1[\"name\"])\n",
    "\n",
    "print(d1[\"position\"])\n",
    "\n",
    "print(f'd1[\"name\"]) is the new {d1[\"position\"]} and he is an animal!')"
   ]
  },
  {
   "cell_type": "markdown",
   "metadata": {},
   "source": [
    "## In-Class Exercise #1 - Print a formatted statement from the dictionary below <br>\n",
    "<p>The output should be '2018 Chevrolet Silverado'</p>"
   ]
  },
  {
   "cell_type": "code",
   "execution_count": 12,
   "metadata": {},
   "outputs": [
    {
     "name": "stdout",
     "output_type": "stream",
     "text": [
      "Did you hear Chevrolet is releasing a new 2018 Silverado and it is amazing!\n"
     ]
    }
   ],
   "source": [
    "# use the dict below\n",
    "truck = {\n",
    "    'year': 2018,\n",
    "    'make': 'Chevrolet',\n",
    "    'model': 'Silverado'\n",
    "}\n",
    "\n",
    "print(f\"Did you hear {truck['make']} is releasing a new {truck['year']} {truck['model']} and it is amazing!\")\n",
    "\n"
   ]
  },
  {
   "cell_type": "code",
   "execution_count": null,
   "metadata": {},
   "outputs": [],
   "source": []
  },
  {
   "cell_type": "markdown",
   "metadata": {},
   "source": [
    "##### Adding New Pairs"
   ]
  },
  {
   "cell_type": "code",
   "execution_count": 13,
   "metadata": {},
   "outputs": [
    {
     "name": "stdout",
     "output_type": "stream",
     "text": [
      "{'first_name': 'Dylan', 'last_name': 'Smith', 'num_of_showers_this_year': 3.5, 'age': 32}\n"
     ]
    }
   ],
   "source": [
    "ds = {\n",
    "    \"first_name\" : \"Dylan\",\n",
    "    \"last_name\" : \"Smith\",\n",
    "    \"num_of_showers_this_year\" : 3.5\n",
    "    \n",
    "}\n",
    "\n",
    "ds['age']=32\n",
    "print(ds)"
   ]
  },
  {
   "cell_type": "markdown",
   "metadata": {},
   "source": [
    "##### Modifying Values"
   ]
  },
  {
   "cell_type": "code",
   "execution_count": null,
   "metadata": {},
   "outputs": [],
   "source": [
    "ds[\"num_of_showers_this_year\"] += 1"
   ]
  },
  {
   "cell_type": "code",
   "execution_count": 14,
   "metadata": {},
   "outputs": [
    {
     "name": "stdout",
     "output_type": "stream",
     "text": [
      "{'first_name': 'Dylan', 'last_name': 'Smith', 'num_of_showers_this_year': 3.5, 'age': 32}\n"
     ]
    }
   ],
   "source": [
    "print(ds)"
   ]
  },
  {
   "cell_type": "markdown",
   "metadata": {},
   "source": [
    "##### Removing Key, Value Pairs"
   ]
  },
  {
   "cell_type": "markdown",
   "metadata": {},
   "source": [
    "###.update()"
   ]
  },
  {
   "cell_type": "code",
   "execution_count": 15,
   "metadata": {},
   "outputs": [
    {
     "name": "stdout",
     "output_type": "stream",
     "text": [
      "{'first_name': 'Dylan', 'last_name': 'Smith', 'num_of_showers_this_year': 3.5, 'age': 32}\n"
     ]
    }
   ],
   "source": [
    "ds = {\n",
    "    \"first_name\" : \"Dylan\",\n",
    "    \"last_name\" : \"Smith\",\n",
    "    \"num_of_showers_this_year\" : 3.5\n",
    "    \n",
    "}\n",
    "ds.update({\"age\":32})\n",
    "print(ds)"
   ]
  },
  {
   "cell_type": "code",
   "execution_count": 16,
   "metadata": {},
   "outputs": [
    {
     "name": "stdout",
     "output_type": "stream",
     "text": [
      "{'first_name': 'Dylan', 'last_name': 'Smith', 'num_of_showers_this_year': 3.5, 'age': 32}\n"
     ]
    }
   ],
   "source": [
    "new_dict = {**ds}\n",
    "print(new_dict)"
   ]
  },
  {
   "cell_type": "code",
   "execution_count": 17,
   "metadata": {},
   "outputs": [
    {
     "name": "stdout",
     "output_type": "stream",
     "text": [
      "x is  1\n",
      "y is  2\n",
      "z is  3\n",
      "x is  1\n",
      "y is  2\n",
      "z is  3\n"
     ]
    }
   ],
   "source": [
    "def test_function(x,y,z):\n",
    "    print(\"x is \",x)\n",
    "    print(\"y is \",y)\n",
    "    print(\"z is \",z)\n",
    "    \n",
    "test_function(x=1, y=2, z=3)\n",
    "my_params={\n",
    "    \"x\":1,\n",
    "    \"y\":2,\n",
    "    \"z\":3\n",
    "}\n",
    "\n",
    "test_function(**my_params)"
   ]
  },
  {
   "cell_type": "code",
   "execution_count": 18,
   "metadata": {},
   "outputs": [
    {
     "name": "stdout",
     "output_type": "stream",
     "text": [
      "{'first_name': 'Dylan', 'last_name': 'Smith'}\n"
     ]
    }
   ],
   "source": [
    "ds = {\n",
    "    \"first_name\" : \"Dylan\",\n",
    "    \"last_name\" : \"Smith\",\n",
    "    \"num_of_showers_this_year\" : 3.5\n",
    "    \n",
    "}\n",
    "\n",
    "del ds[\"num_of_showers_this_year\"]\n",
    "print(ds)"
   ]
  },
  {
   "cell_type": "markdown",
   "metadata": {},
   "source": [
    "##### Looping a Dictionary"
   ]
  },
  {
   "cell_type": "code",
   "execution_count": 20,
   "metadata": {},
   "outputs": [
    {
     "name": "stdout",
     "output_type": "stream",
     "text": [
      "first_name\n",
      "Dylan\n",
      "last_name\n",
      "Smith\n"
     ]
    }
   ],
   "source": [
    "#best way to loop over the keys of dictionary:\n",
    "\n",
    "for key in ds:\n",
    "    print(key) #key\n",
    "    print(ds[key]) #value\n"
   ]
  },
  {
   "cell_type": "markdown",
   "metadata": {},
   "source": [
    "##### Looping Only Keys"
   ]
  },
  {
   "cell_type": "code",
   "execution_count": 21,
   "metadata": {},
   "outputs": [
    {
     "name": "stdout",
     "output_type": "stream",
     "text": [
      "first_name\n",
      "Dylan\n",
      "last_name\n",
      "Smith\n"
     ]
    }
   ],
   "source": [
    "# .keys()\n",
    "\n",
    "ds.keys()\n",
    "for key in ds:\n",
    "    print(key) #key\n",
    "    print(ds[key]) #value\n",
    "\n",
    "\n"
   ]
  },
  {
   "cell_type": "markdown",
   "metadata": {},
   "source": [
    "##### Looping Only Values"
   ]
  },
  {
   "cell_type": "code",
   "execution_count": 24,
   "metadata": {},
   "outputs": [
    {
     "name": "stdout",
     "output_type": "stream",
     "text": [
      "Dylan\n",
      "Smith\n"
     ]
    }
   ],
   "source": [
    "# .values()\n",
    "ds.values()\n",
    "\n",
    "for value in ds.values():\n",
    "    print(value)\n",
    "\n"
   ]
  },
  {
   "cell_type": "markdown",
   "metadata": {},
   "source": [
    "## In-Class Exercise #2 - Create a Function that Prints All Key Value Pairs within a print .format() <br>\n",
    "<p><b>Output should be:</b><br>\n",
    "Max has blue eyes<br>\n",
    "Lilly has brown eyes<br>\n",
    "Barney has blue eyes<br>\n",
    "etc.\n",
    "</p>"
   ]
  },
  {
   "cell_type": "code",
   "execution_count": 27,
   "metadata": {},
   "outputs": [
    {
     "name": "stdout",
     "output_type": "stream",
     "text": [
      "Max has blue eyes\n",
      "Lilly has brown eyes\n",
      "Barney has blue eyes\n",
      "Larney has brown eyes\n",
      "Ted has purple eyes\n"
     ]
    }
   ],
   "source": [
    "# use the dict below\n",
    "\n",
    "people = {\n",
    "    'Max': 'blue',\n",
    "    'Lilly': 'brown',\n",
    "    'Barney': 'blue',\n",
    "    'Larney': 'brown',\n",
    "    'Ted': 'purple'\n",
    "}\n",
    "\n",
    "ds.keys()\n",
    "\n",
    "for name, eye_color in people.items():\n",
    "    print(name, \"has\", eye_color, \"eyes\")\n",
    "\n"
   ]
  },
  {
   "cell_type": "code",
   "execution_count": 36,
   "metadata": {
    "scrolled": true
   },
   "outputs": [
    {
     "name": "stdout",
     "output_type": "stream",
     "text": [
      "{'a': 1, 'crow': 1, 'walked': 1, 'into': 1, 'bar': 1, 'and': 1, 'asks': 1, 'for': 1, 'drink': 1, 'the': 1, 'bartender': 1, 'says': 1, 'I': 1, 'hope': 1, 'you': 1, 'friends': 1, 'are': 1, 'not': 1, 'coming': 1, 'because': 1, 'last': 1, 'time': 1, 'there': 1, 'was': 1, 'murder': 1}\n"
     ]
    }
   ],
   "source": [
    "sentence = \"a crow walked into a crow bar and asks for a drink the bartender the bartender says I hope you friends are not coming because last time there was a murder\"\n",
    "count_dict={}\n",
    "for word in sentence.split():\n",
    "    if word not in count_dict:\n",
    "        count_dict[word]=1\n",
    "    else:\n",
    "         count_dict[word]=+1\n",
    "print(count_dict)\n",
    "        \n",
    "    "
   ]
  },
  {
   "cell_type": "code",
   "execution_count": 37,
   "metadata": {},
   "outputs": [
    {
     "name": "stdout",
     "output_type": "stream",
     "text": [
      "{'a': 4, 'crow': 2, 'walked': 1, 'into': 1, 'bar': 1, 'and': 1, 'asks': 1, 'for': 1, 'drink': 1, 'the': 2, 'bartender': 2, 'says': 1, 'I': 1, 'hope': 1, 'you': 1, 'friends': 1, 'are': 1, 'not': 1, 'coming': 1, 'because': 1, 'last': 1, 'time': 1, 'there': 1, 'was': 1, 'murder': 1}\n"
     ]
    }
   ],
   "source": [
    "sentence = \"a crow walked into a crow bar and asks for a drink the bartender the bartender says I hope you friends are not coming because last time there was a murder\"\n",
    "\n",
    "count_dict={}\n",
    "for word in sentence.split():\n",
    "    count_dict[word]=count_dict.get(word, 0)+1\n",
    "print(count_dict)\n"
   ]
  },
  {
   "cell_type": "markdown",
   "metadata": {},
   "source": [
    "##### sorted()"
   ]
  },
  {
   "cell_type": "code",
   "execution_count": 38,
   "metadata": {},
   "outputs": [
    {
     "name": "stdout",
     "output_type": "stream",
     "text": [
      "['Ted', 'Max', 'Lilly', 'Larney', 'Barney']\n"
     ]
    }
   ],
   "source": [
    "# sorts variables in order\n",
    "# sorted(dict.values()) or dict.keys() or dict.items()\n",
    "\n",
    "people = {\n",
    "    'Max': 'blue',\n",
    "    'Lilly': 'brown',\n",
    "    'Barney': 'blue',\n",
    "    'Larney': 'brown',\n",
    "    'Ted': 'purple'\n",
    "}\n",
    "print(\n",
    "sorted(people,reverse=True))"
   ]
  },
  {
   "cell_type": "markdown",
   "metadata": {},
   "source": [
    "##### List with Dictionaries"
   ]
  },
  {
   "cell_type": "code",
   "execution_count": 39,
   "metadata": {},
   "outputs": [
    {
     "name": "stdout",
     "output_type": "stream",
     "text": [
      "['Marcus', 'Perry', {'random_guy': 'Steve', 'another_guy': 'Travis'}, 'Connor', 'Lizzette']\n"
     ]
    }
   ],
   "source": [
    "names= [\"Marcus\", \"Perry\",{\"random_guy\": \"Steve\", \"another_guy\": \"Travis\"}, \"Connor\", \"Lizzette\",]\n",
    "print(names)\n",
    "\n"
   ]
  },
  {
   "cell_type": "markdown",
   "metadata": {},
   "source": [
    "##### Dictionaries with Lists"
   ]
  },
  {
   "cell_type": "code",
   "execution_count": 40,
   "metadata": {},
   "outputs": [
    {
     "name": "stdout",
     "output_type": "stream",
     "text": [
      "=====================\n",
      "Item Name: Item A\n",
      "Item Price: 2.99\n",
      "Item Desc: A jolly good Item\n",
      "=====================\n",
      "Item Name: Item B\n",
      "Item Price: 10.99\n",
      "Item Desc: A waste of your money\n",
      "=====================\n",
      "Item Name: Item C\n",
      "Item Price: 0.99\n",
      "Item Desc: Too cheap to use; came from wish.com\n"
     ]
    }
   ],
   "source": [
    "# be careful when using numbers as keys in dictionaries, don't confuse them with indexes\n",
    "all_items = [\n",
    "    {\n",
    "        \"name\":\"Item A\",\n",
    "        \"price\":2.99,\n",
    "        \"desc\" : \"A jolly good Item\"\n",
    "    },\n",
    "    {\n",
    "        \"name\": \"Item B\",\n",
    "        \"price\":10.99,\n",
    "        \"desc\": \"A waste of your money\"\n",
    "    },\n",
    "    {\n",
    "        \"name\": \"Item C\",\n",
    "        \"price\": 0.99,\n",
    "        \"desc\":\"Too cheap to use; came from wish.com\"\n",
    "    }\n",
    "]\n",
    "\n",
    "\n",
    "\n",
    "\n",
    "for item in all_items:\n",
    "    print(\"=====================\")\n",
    "    print(f\"Item Name: {item['name']}\")\n",
    "    print(f\"Item Price: {item['price']}\" )\n",
    "    print(f\"Item Desc: {item['desc']}\" )"
   ]
  },
  {
   "cell_type": "markdown",
   "metadata": {},
   "source": [
    "##### Dictionaries with Dictionaries"
   ]
  },
  {
   "cell_type": "code",
   "execution_count": null,
   "metadata": {},
   "outputs": [],
   "source": [
    "# to get values, must traverse through keys\n",
    "\n",
    "caleb= {\n",
    "    \"first_name\": \"Caleb\",\n",
    "    \"last_name\" : \"Schmidt\",\n",
    "    \"ice_cream\":{\n",
    "        \"mint_chip\": True,\n",
    "        \"strawberry\":True,\n",
    "        \"vanilla\":False\n",
    "    },\n",
    "    \"games\":[\n",
    "        {\n",
    "            \"name\":\"Wii Sports\",\n",
    "            \"rating\":7\n",
    "        },\n",
    "       {\n",
    "            \"name\":\"Smash Ult\",\n",
    "            \"rating\":8\n",
    "        },\n",
    "        {\n",
    "            \"name\":\"Starcraft\",\n",
    "            \"rating\":6\n",
    "        }\n",
    "    ],\n",
    "    \"emotions\": [\"I am tired\", \"I am confused\", \"I am disgusted\", \"I am a genious\", \"I am an idoit\"]\n",
    "    \n",
    "}\n"
   ]
  },
  {
   "cell_type": "markdown",
   "metadata": {},
   "source": [
    "## Dictionaries vs. Lists (over time) Example of RUNTIME\n",
    "### When inputting values in a Dictionary vs List"
   ]
  },
  {
   "cell_type": "code",
   "execution_count": null,
   "metadata": {},
   "outputs": [],
   "source": [
    "import time\n",
    "\n",
    "\n",
    "# generate fake dictionary\n",
    "d = {}\n",
    "\n",
    "for i in range(10000000):\n",
    "    d[i] = 'value'\n",
    "    \n",
    "\n",
    "# generate fake list\n",
    "big_list = [x for x in range(10000000)]"
   ]
  },
  {
   "cell_type": "code",
   "execution_count": null,
   "metadata": {},
   "outputs": [],
   "source": [
    "# tracking time for dictionary\n",
    "start_time = time.time()\n",
    "\n",
    "print(d[9999999])\n",
    "\n",
    "end_time = time.time() - start_time\n",
    "\n",
    "print('Elapsed time for dictionary: {}'.format(end_time))\n",
    "\n",
    "\n",
    "# tracking time for list\n",
    "start_time = time.time()\n",
    "\n",
    "for i in range(len(big_list)):\n",
    "    if i == 9999999:\n",
    "        print(i)\n",
    "\n",
    "end_time = time.time() - start_time\n",
    "\n",
    "print('Elapsed time for list: {}'.format(end_time))"
   ]
  },
  {
   "cell_type": "markdown",
   "metadata": {},
   "source": [
    "## Exercise #3 - Write a Function that asks someone's name and address, and then stores that into a dictionary, and continues to do so until they choose to 'quit'. Once they quit, the program should print all names and addresses. <br>\n",
    "<p>\n",
    "<b>Proper steps:</b><br>\n",
    "step 1: write a function that takes in information and stores it in a dictionary<br>\n",
    "step 2: define an empty dictionary to work with<br>\n",
    "step 3: create our loop, which asks the user for information until they quit<br>\n",
    "step 4: ask for the information, and store it into variables<br>\n",
    "step 5: check if the user types quit<br>\n",
    "step 5a: print out all information<br>\n",
    "step 5b: break out of the loop<br>\n",
    "step 6: if they didn't quit, add the information to the dictionary<br>\n",
    "step 7: invoke the function by calling it\n",
    "</p>"
   ]
  },
  {
   "cell_type": "code",
   "execution_count": 46,
   "metadata": {},
   "outputs": [
    {
     "name": "stdout",
     "output_type": "stream",
     "text": [
      "What is your name? j\n",
      "What is the address for j? 1235 jjhg street\n",
      "What is your name? quit\n"
     ]
    },
    {
     "data": {
      "text/plain": [
       "{}"
      ]
     },
     "execution_count": 46,
     "metadata": {},
     "output_type": "execute_result"
    }
   ],
   "source": [
    "from IPython.display import clear_output\n",
    "\n",
    "def address_book_fun():\n",
    "    address_book = {}\n",
    "    while True:\n",
    "        name = input(\"What is your name? \").strip()\n",
    "        if name.lower()=='quit':\n",
    "            break\n",
    "        address = input(f\"What is the address for {name}? \").strip()\n",
    "        if address.lower()== 'quit':\n",
    "            print(address-book)\n",
    "            break\n",
    "            address_book[name]=address\n",
    "    return address_book\n",
    "address_book_fun()\n"
   ]
  },
  {
   "cell_type": "markdown",
   "metadata": {},
   "source": [
    "## Set <br>\n",
    "<p>A Set is an unordered collection data type that is iterable (loop), mutable, and has no duplicate elements.<br>Major advantage is that it is highly optimized in checking if something is in the set, as opposed to checking if something is in a list.</p>"
   ]
  },
  {
   "cell_type": "markdown",
   "metadata": {},
   "source": [
    "##### Declaring"
   ]
  },
  {
   "cell_type": "code",
   "execution_count": null,
   "metadata": {},
   "outputs": [],
   "source": [
    "# set() or {}\n",
    "# no order {3, 2, 1} outputs as {1, 2, 3}\n"
   ]
  },
  {
   "cell_type": "markdown",
   "metadata": {},
   "source": [
    "##### .add()"
   ]
  },
  {
   "cell_type": "code",
   "execution_count": null,
   "metadata": {},
   "outputs": [],
   "source": [
    "# set.add()\n"
   ]
  },
  {
   "cell_type": "markdown",
   "metadata": {},
   "source": [
    "##### .remove()"
   ]
  },
  {
   "cell_type": "code",
   "execution_count": null,
   "metadata": {},
   "outputs": [],
   "source": [
    "# removes by value\n",
    "# set.remove()\n",
    "# nums.remove(56)\n",
    "\n"
   ]
  },
  {
   "cell_type": "markdown",
   "metadata": {},
   "source": [
    "##### .union() "
   ]
  },
  {
   "cell_type": "code",
   "execution_count": null,
   "metadata": {},
   "outputs": [],
   "source": [
    "# Returns a union of two sets, can also use '|' or set.union(set)\n",
    "# joins all numbers, gets rid of duplicates\n"
   ]
  },
  {
   "cell_type": "markdown",
   "metadata": {},
   "source": [
    "##### .intersection()"
   ]
  },
  {
   "cell_type": "code",
   "execution_count": null,
   "metadata": {},
   "outputs": [],
   "source": [
    "# Returns an intersection of two sets, can also use '&'\n",
    "# only takes similar elements from both sets\n",
    "\n"
   ]
  },
  {
   "cell_type": "markdown",
   "metadata": {},
   "source": [
    "##### .difference()"
   ]
  },
  {
   "cell_type": "code",
   "execution_count": null,
   "metadata": {},
   "outputs": [],
   "source": [
    "# Returns a set containing all the elements of invoking set that are not in the second set, can also use '-'\n",
    "# only takes values from the first set that are not in the second set\n",
    "# order matters\n",
    "\n"
   ]
  },
  {
   "cell_type": "markdown",
   "metadata": {},
   "source": [
    "##### .clear()"
   ]
  },
  {
   "cell_type": "code",
   "execution_count": null,
   "metadata": {},
   "outputs": [],
   "source": [
    "# Empties the whole set\n",
    "# set.clear()\n"
   ]
  },
  {
   "cell_type": "markdown",
   "metadata": {},
   "source": [
    "##### Frozenset <br>\n",
    "<p>Frozen sets are immutable objects that only support methods and operators that produce a result without affecting the frozen set or sets to which they are applied.</p><br><b>Unique & Immutable</b>"
   ]
  },
  {
   "cell_type": "code",
   "execution_count": null,
   "metadata": {},
   "outputs": [],
   "source": [
    "# frozenset([])\n"
   ]
  },
  {
   "cell_type": "markdown",
   "metadata": {},
   "source": [
    "## Modules"
   ]
  },
  {
   "cell_type": "markdown",
   "metadata": {},
   "source": [
    "##### Importing Entire Modules"
   ]
  },
  {
   "cell_type": "code",
   "execution_count": null,
   "metadata": {},
   "outputs": [],
   "source": [
    "# import or from 'xxx' import *\n",
    "# import math\n",
    "\n"
   ]
  },
  {
   "cell_type": "markdown",
   "metadata": {},
   "source": [
    "##### Importing Methods Only"
   ]
  },
  {
   "cell_type": "code",
   "execution_count": null,
   "metadata": {},
   "outputs": [],
   "source": [
    "# from 'xxx' import 'xxx'\n",
    "# from math import floor\n",
    "\n",
    "\n"
   ]
  },
  {
   "cell_type": "markdown",
   "metadata": {},
   "source": [
    "##### Using the 'as' Keyword"
   ]
  },
  {
   "cell_type": "code",
   "execution_count": null,
   "metadata": {},
   "outputs": [],
   "source": []
  },
  {
   "cell_type": "markdown",
   "metadata": {},
   "source": [
    "##### Creating a Module"
   ]
  },
  {
   "cell_type": "code",
   "execution_count": null,
   "metadata": {},
   "outputs": [],
   "source": []
  },
  {
   "cell_type": "markdown",
   "metadata": {},
   "source": [
    "# Exercises"
   ]
  },
  {
   "cell_type": "markdown",
   "metadata": {},
   "source": [
    "### 1) Build a Shopping Cart <br>\n",
    "<p><b>You can use either lists or dictionaries. The program should have the following capabilities:</b><br><br>\n",
    "1) Takes in input <br>\n",
    "2) Stores user input into a dictionary or list <br>\n",
    "3) The User can add or delete items <br>\n",
    "4) The User can see current shopping list <br>\n",
    "5) The program Loops until user 'quits' <br>\n",
    "6) Upon quiting the program, print out all items in the user's list <br>\n",
    "</p>"
   ]
  },
  {
   "cell_type": "code",
   "execution_count": null,
   "metadata": {},
   "outputs": [
    {
     "ename": "",
     "evalue": "",
     "output_type": "error",
     "traceback": [
      "\u001b[1;31mRunning cells with 'Python 3.10.7 64-bit (microsoft store)' requires ipykernel package.\n",
      "\u001b[1;31mRun the following command to install 'ipykernel' into the Python environment. \n",
      "\u001b[1;31mCommand: 'c:/Users/marow/AppData/Local/Microsoft/WindowsApps/python3.10.exe -m pip install ipykernel -U --force-reinstall'"
     ]
    }
   ],
   "source": [
    "from IPython.display import clear_output\n",
    "\n",
    "# Ask the user four bits of input: Do you want to : Show/Add/Delete or Quit?\n",
    "\n",
    "from IPython.display import clear_output\n",
    "\n",
    "cart = []\n",
    "\n",
    "def show_cart():\n",
    "    clear_output()\n",
    "    print(\"Your Cart Contains: \")\n",
    "    for item in cart:\n",
    "        print(item)\n",
    "    if not cart:\n",
    "        print(\"Your Cart is Empty\")\n",
    "\n",
    "def add_item(i):\n",
    "    clear_output()\n",
    "    cart.append(i)\n",
    "    print(f'{i} was added to your cart')\n",
    "    \n",
    "def remove_item(i):\n",
    "    clear_output()\n",
    "    cart.remove(i)\n",
    "    print(f'{i} was removed from your cart')\n",
    "\n",
    "def clear_cart():\n",
    "    clear_output()\n",
    "    cart.clear()\n",
    "    print(\"Your cart is empty\")\n",
    "\n",
    "        \n",
    "    \n",
    "    \n",
    "\n",
    "def main():\n",
    "    while True:\n",
    "        response = input(\"\"\"What would you like to do?\n",
    "You Can:\n",
    "add\n",
    "remove\n",
    "show\n",
    "clear\n",
    "quit    \n",
    "        \"\"\")\n",
    "        if response.lower().strip()=='quit':\n",
    "            show_cart()\n",
    "            print(\"Thanks for Shopping\")\n",
    "            break\n",
    "        elif response.lower().strip() == 'add':\n",
    "            item = input(\"What would you like to add? \")\n",
    "            add_item(item)\n",
    "        elif response.lower().strip() == \"remove\":\n",
    "            item = input(\"What would you like to remove? \")\n",
    "            remove_item(item)\n",
    "        elif response.lower().strip() == \"show\":\n",
    "            show_cart()\n",
    "        elif response.lower().strip() == \"clear\":\n",
    "            clear_cart()\n",
    "        else:\n",
    "            print(\"That option was invalid; Please Learn to read\")\n",
    "\n",
    "if __name__ == \"__main__\":            \n",
    "    #Driver Code\n",
    "    main()\n"
   ]
  },
  {
   "cell_type": "markdown",
   "metadata": {},
   "source": [
    "### 2) Create a Module in VS Code and Import It into jupyter notebook <br>\n",
    "<p><b>Module should have the following capabilities:</b><br><br>\n",
    "1) Has a function to calculate the square footage of a house <br>\n",
    "    <b>Reminder of Formula: Length X Width == Area<br>\n",
    "        <hr>\n",
    "2) Has a function to calculate the circumference of a circle <br><br>\n",
    "<b>Program in Jupyter Notebook should take in user input and use imported functions to calculate a circle's circumference or a houses square footage</b>\n",
    "</p>"
   ]
  },
  {
   "cell_type": "code",
   "execution_count": null,
   "metadata": {},
   "outputs": [
    {
     "ename": "",
     "evalue": "",
     "output_type": "error",
     "traceback": [
      "\u001b[1;31mRunning cells with 'Python 3.10.7 64-bit (microsoft store)' requires ipykernel package.\n",
      "\u001b[1;31mRun the following command to install 'ipykernel' into the Python environment. \n",
      "\u001b[1;31mCommand: 'c:/Users/marow/AppData/Local/Microsoft/WindowsApps/python3.10.exe -m pip install ipykernel -U --force-reinstall'"
     ]
    }
   ],
   "source": [
    "def square_area(l):\n",
    "    return round(l ** 2, 4)\n",
    "side_length = float(input(\"Side Length: \"))\n",
    "area = square_area(side_length)\n",
    "print(\"Area: \" + str(area))"
   ]
  }
 ],
 "metadata": {
  "kernelspec": {
   "display_name": "Python 3.10.7 64-bit (microsoft store)",
   "language": "python",
   "name": "python3"
  },
  "language_info": {
   "codemirror_mode": {
    "name": "ipython",
    "version": 3
   },
   "file_extension": ".py",
   "mimetype": "text/x-python",
   "name": "python",
   "nbconvert_exporter": "python",
   "pygments_lexer": "ipython3",
   "version": "3.10.7"
  },
  "vscode": {
   "interpreter": {
    "hash": "c70616c2c946e2d42bc9582c18e538d967fbc61d10582b379c2461e08b72ecf0"
   }
  }
 },
 "nbformat": 4,
 "nbformat_minor": 2
}
